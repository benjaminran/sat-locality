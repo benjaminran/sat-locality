{
 "cells": [
  {
   "cell_type": "markdown",
   "metadata": {},
   "source": [
    "# Circle"
   ]
  },
  {
   "cell_type": "markdown",
   "metadata": {
    "collapsed": true
   },
   "source": [
    "Consider the following scheme: distribute $n$ variables uniformly randomly around a circle then generate $m$ clauses of $a$ variables each where each clause has a random \"center\" point on the circle from which all variables in the clause must be within a certain distance $w$.\n",
    "\n",
    "Observe the time taken to solve instances of different $w$."
   ]
  },
  {
   "cell_type": "code",
   "execution_count": 29,
   "metadata": {},
   "outputs": [],
   "source": [
    "# parameters\n",
    "a = 5\n",
    "m = 1000\n",
    "n = 1000"
   ]
  },
  {
   "cell_type": "code",
   "execution_count": 1,
   "metadata": {},
   "outputs": [
    {
     "name": "stdout",
     "output_type": "stream",
     "text": [
      "[ 0.1         0.12666667  0.15333333  0.18        0.20666667  0.23333333\n",
      "  0.26        0.28666667  0.31333333  0.34        0.36666667  0.39333333\n",
      "  0.42        0.44666667  0.47333333  0.5       ]\n"
     ]
    }
   ],
   "source": [
    "import numpy as np\n",
    "W = np.linspace(0.1, 0.5, num=16)\n",
    "with open(\"w.txt\", \"w\") as f:\n",
    "    for w in W:\n",
    "        print(w, file=f)\n",
    "print(W)"
   ]
  },
  {
   "cell_type": "markdown",
   "metadata": {},
   "source": [
    "## Generate instances"
   ]
  },
  {
   "cell_type": "code",
   "execution_count": 20,
   "metadata": {},
   "outputs": [
    {
     "name": "stdout",
     "output_type": "stream",
     "text": [
      "CPU times: user 11.2 ms, sys: 12.1 ms, total: 23.3 ms\n",
      "Wall time: 10min 2s\n"
     ]
    }
   ],
   "source": [
    "%%time\n",
    "%%bash -s \"$a\" \"$m\" \"$n\"\n",
    "cat w.txt | parallel sl -n \"$3\" -m \"$2\" -a \"$1\" -w \"{}\" -o \"instance-{}.cnf\" -q"
   ]
  },
  {
   "cell_type": "code",
   "execution_count": 21,
   "metadata": {},
   "outputs": [
    {
     "name": "stdout",
     "output_type": "stream",
     "text": [
      "instance-0.1.cnf             instance-0.34.cnf\r\n",
      "instance-0.126666666667.cnf  instance-0.366666666667.cnf\r\n",
      "instance-0.153333333333.cnf  instance-0.393333333333.cnf\r\n",
      "instance-0.18.cnf            instance-0.42.cnf\r\n",
      "instance-0.206666666667.cnf  instance-0.446666666667.cnf\r\n",
      "instance-0.233333333333.cnf  instance-0.473333333333.cnf\r\n",
      "instance-0.26.cnf            instance-0.5.cnf\r\n",
      "instance-0.286666666667.cnf  w.txt\r\n",
      "instance-0.313333333333.cnf\r\n"
     ]
    }
   ],
   "source": [
    "%ls"
   ]
  },
  {
   "cell_type": "code",
   "execution_count": 22,
   "metadata": {},
   "outputs": [
    {
     "name": "stdout",
     "output_type": "stream",
     "text": [
      "c generator: circle\r\n",
      "c k: 5\r\n",
      "c w: 0.1\r\n",
      "p cnf 10000 10000\r\n",
      "5936 8424 -1788 2567 -6611 0\r\n",
      "210 -2651 -9041 -9980 -3031 0\r\n",
      "-2352 -1802 9840 -5051 2124 0\r\n",
      "-5350 515 7633 9654 -9211 0\r\n",
      "-9878 3770 4641 -1674 -7087 0\r\n",
      "971 3953 -3560 5307 -3917 0\r\n"
     ]
    }
   ],
   "source": [
    "! head instance-0.1.cnf"
   ]
  },
  {
   "cell_type": "markdown",
   "metadata": {},
   "source": [
    "## Solve"
   ]
  },
  {
   "cell_type": "code",
   "execution_count": 23,
   "metadata": {
    "scrolled": true
   },
   "outputs": [
    {
     "name": "stdout",
     "output_type": "stream",
     "text": [
      "CPU times: user 3.07 ms, sys: 5.49 ms, total: 8.56 ms\n",
      "Wall time: 28.6 s\n"
     ]
    }
   ],
   "source": [
    "%%time\n",
    "%%bash\n",
    "for w in $(cat w.txt); do \n",
    "    cat instance-${w}.cnf | docker run --rm -i msoos/cryptominisat:v2 > result-${w}.out\n",
    "done"
   ]
  },
  {
   "cell_type": "code",
   "execution_count": 24,
   "metadata": {},
   "outputs": [
    {
     "name": "stdout",
     "output_type": "stream",
     "text": [
      "instance-0.1.cnf             result-0.126666666667.out\r\n",
      "instance-0.126666666667.cnf  result-0.153333333333.out\r\n",
      "instance-0.153333333333.cnf  result-0.18.out\r\n",
      "instance-0.18.cnf            result-0.206666666667.out\r\n",
      "instance-0.206666666667.cnf  result-0.233333333333.out\r\n",
      "instance-0.233333333333.cnf  result-0.26.out\r\n",
      "instance-0.26.cnf            result-0.286666666667.out\r\n",
      "instance-0.286666666667.cnf  result-0.313333333333.out\r\n",
      "instance-0.313333333333.cnf  result-0.34.out\r\n",
      "instance-0.34.cnf            result-0.366666666667.out\r\n",
      "instance-0.366666666667.cnf  result-0.393333333333.out\r\n",
      "instance-0.393333333333.cnf  result-0.42.out\r\n",
      "instance-0.42.cnf            result-0.446666666667.out\r\n",
      "instance-0.446666666667.cnf  result-0.473333333333.out\r\n",
      "instance-0.473333333333.cnf  result-0.5.out\r\n",
      "instance-0.5.cnf             w.txt\r\n",
      "result-0.1.out\r\n"
     ]
    }
   ],
   "source": [
    "%ls"
   ]
  },
  {
   "cell_type": "markdown",
   "metadata": {},
   "source": [
    "## Analyze"
   ]
  },
  {
   "cell_type": "code",
   "execution_count": 25,
   "metadata": {},
   "outputs": [
    {
     "name": "stdout",
     "output_type": "stream",
     "text": [
      "0.1,0.05,SATISFIABLE\n",
      "0.126666666667,0.05,SATISFIABLE\n",
      "0.153333333333,0.06,SATISFIABLE\n",
      "0.18,0.04,SATISFIABLE\n",
      "0.206666666667,0.06,SATISFIABLE\n",
      "0.233333333333,0.07,SATISFIABLE\n",
      "0.26,0.05,SATISFIABLE\n",
      "0.286666666667,0.06,SATISFIABLE\n",
      "0.313333333333,0.06,SATISFIABLE\n",
      "0.34,0.06,SATISFIABLE\n",
      "0.366666666667,0.05,SATISFIABLE\n",
      "0.393333333333,0.06,SATISFIABLE\n",
      "0.42,0.05,SATISFIABLE\n",
      "0.446666666667,0.05,SATISFIABLE\n",
      "0.473333333333,0.04,SATISFIABLE\n",
      "0.5,0.05,SATISFIABLE\n"
     ]
    }
   ],
   "source": [
    "%%bash\n",
    "for w in $(cat w.txt); do\n",
    "    printf \"${w},\"\n",
    "    cat result-${w}.out | grep 'Total time' | sed 's/[^0-9\\.]//g' | xargs echo -n\n",
    "    printf \",\"\n",
    "    cat result-${w}.out | grep '^s' | cut -d' ' -f 2\n",
    "done | tee times.tsv"
   ]
  },
  {
   "cell_type": "code",
   "execution_count": 26,
   "metadata": {},
   "outputs": [
    {
     "data": {
      "image/png": "[encoded data removed]",
      "text/plain": [
       "<matplotlib.figure.Figure at 0x1089d39b0>"
      ]
     },
     "metadata": {},
     "output_type": "display_data"
    }
   ],
   "source": [
    "import matplotlib.pyplot as plt\n",
    "import pandas as pd\n",
    "\n",
    "data = pd.read_csv('times.tsv', header=None)\n",
    "W = data[:][0]\n",
    "T = data[:][1]\n",
    "\n",
    "fig, ax = plt.subplots(1, 1)\n",
    "\n",
    "ax.plot(W, T, zorder=10)\n",
    "ax.grid(True, zorder=5)\n",
    "plt.show()"
   ]
  }
 ],
 "metadata": {
  "kernelspec": {
   "display_name": "Python 3",
   "language": "python",
   "name": "python3"
  },
  "language_info": {
   "codemirror_mode": {
    "name": "ipython",
    "version": 3
   },
   "file_extension": ".py",
   "mimetype": "text/x-python",
   "name": "python",
   "nbconvert_exporter": "python",
   "pygments_lexer": "ipython3",
   "version": "3.6.2"
  }
 },
 "nbformat": 4,
 "nbformat_minor": 1
}
