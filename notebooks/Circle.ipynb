{
 "cells": [
  {
   "cell_type": "markdown",
   "metadata": {},
   "source": [
    "# Circle"
   ]
  },
  {
   "cell_type": "markdown",
   "metadata": {
    "collapsed": true
   },
   "source": [
    "Consider the following scheme: distribute $n$ variables uniformly randomly around a circle then generate $m$ clauses of $a$ variables each where each clause has a random \"center\" point on the circle from which all variables in the clause must be within a certain distance $w$.\n",
    "\n",
    "Observe the time taken to solve instances of different $w$."
   ]
  },
  {
   "cell_type": "code",
   "execution_count": 1,
   "metadata": {
    "scrolled": true
   },
   "outputs": [
    {
     "name": "stdout",
     "output_type": "stream",
     "text": [
      "/Users/bnran/dev/sat-locality/notebooks/experiment\n"
     ]
    }
   ],
   "source": [
    "# set up\n",
    "! rm -r experiment; mkdir -p experiment\n",
    "%cd experiment"
   ]
  },
  {
   "cell_type": "code",
   "execution_count": 21,
   "metadata": {
    "collapsed": true
   },
   "outputs": [],
   "source": [
    "# parameters\n",
    "a = 5\n",
    "m = 100000\n",
    "n = 100000"
   ]
  },
  {
   "cell_type": "markdown",
   "metadata": {},
   "source": [
    "## Generate instances"
   ]
  },
  {
   "cell_type": "markdown",
   "metadata": {},
   "source": [
    "For $w = 0.1, 0.2, 0.3, 0.4, 0.5$:"
   ]
  },
  {
   "cell_type": "code",
   "execution_count": null,
   "metadata": {},
   "outputs": [],
   "source": [
    "%%time\n",
    "%%bash -s \"$a\" \"$m\" \"$n\"\n",
    "seq 5 | parallel sl -n \"$3\" -m \"$2\" -a \"$1\" -w \"0.{}\" -o \"instance-{}.cnf\" -q"
   ]
  },
  {
   "cell_type": "code",
   "execution_count": null,
   "metadata": {},
   "outputs": [],
   "source": [
    "%ls"
   ]
  },
  {
   "cell_type": "code",
   "execution_count": null,
   "metadata": {},
   "outputs": [],
   "source": [
    "! head instance-1.cnf"
   ]
  },
  {
   "cell_type": "markdown",
   "metadata": {},
   "source": [
    "## Solve"
   ]
  },
  {
   "cell_type": "code",
   "execution_count": null,
   "metadata": {
    "scrolled": true
   },
   "outputs": [],
   "source": [
    "%%time\n",
    "%%bash\n",
    "for w in $(seq 5); do \n",
    "    cat instance-${w}.cnf | docker run --rm -i msoos/cryptominisat:v2 > result-${w}.out\n",
    "done"
   ]
  },
  {
   "cell_type": "code",
   "execution_count": null,
   "metadata": {},
   "outputs": [],
   "source": [
    "%ls"
   ]
  },
  {
   "cell_type": "markdown",
   "metadata": {},
   "source": [
    "## Analyze"
   ]
  },
  {
   "cell_type": "code",
   "execution_count": null,
   "metadata": {},
   "outputs": [],
   "source": [
    "%%bash\n",
    "for w in $(seq 5); do\n",
    "    printf \"0.${w},\"\n",
    "    cat result-${w}.out | grep 'Total time' | sed 's/[^0-9\\.]//g' | xargs echo -n\n",
    "    printf \",\"\n",
    "    cat result-${w}.out | grep '^s' | cut -d' ' -f 2\n",
    "done | tee times.tsv"
   ]
  },
  {
   "cell_type": "code",
   "execution_count": null,
   "metadata": {},
   "outputs": [],
   "source": [
    "import matplotlib.pyplot as plt\n",
    "import pandas as pd\n",
    "\n",
    "data = pd.read_csv('times.tsv', header=None)\n",
    "W = data[:][0]\n",
    "T = data[:][1]\n",
    "\n",
    "fig, ax = plt.subplots(1, 1)\n",
    "\n",
    "ax.plot(W, T, zorder=10)\n",
    "ax.grid(True, zorder=5)\n",
    "plt.show()"
   ]
  }
 ],
 "metadata": {
  "kernelspec": {
   "display_name": "Python 3",
   "language": "python",
   "name": "python3"
  },
  "language_info": {
   "codemirror_mode": {
    "name": "ipython",
    "version": 3
   },
   "file_extension": ".py",
   "mimetype": "text/x-python",
   "name": "python",
   "nbconvert_exporter": "python",
   "pygments_lexer": "ipython3",
   "version": "3.6.2"
  }
 },
 "nbformat": 4,
 "nbformat_minor": 2
}
