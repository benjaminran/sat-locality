{
 "cells": [
  {
   "cell_type": "markdown",
   "metadata": {},
   "source": [
    "# Circle"
   ]
  },
  {
   "cell_type": "markdown",
   "metadata": {
    "collapsed": true
   },
   "source": [
    "Distribute $n$ variables uniformly randomly around a circle then generate $m$ clauses of $a$ variables each where each clause has a random \"center\" point on the circle from which all variables in the clause must be within a certain distance $w$.\n",
    "\n",
    "Observe the time taken to solve instances of different $w$."
   ]
  },
  {
   "cell_type": "code",
   "execution_count": 28,
   "metadata": {},
   "outputs": [
    {
     "name": "stdout",
     "output_type": "stream",
     "text": [
      "a: 10, m: 1000, n: 100\n"
     ]
    }
   ],
   "source": [
    "import os\n",
    "# parameters\n",
    "a = os.getenv('SL_A', 10)\n",
    "m = os.getenv('SL_M', 1000)\n",
    "n = os.getenv('SL_N', 100)\n",
    "print('a: {}, m: {}, n: {}'.format(a, m, n))"
   ]
  },
  {
   "cell_type": "code",
   "execution_count": 29,
   "metadata": {},
   "outputs": [],
   "source": [
    "! [ -d data ] || mkdir data"
   ]
  },
  {
   "cell_type": "code",
   "execution_count": 30,
   "metadata": {},
   "outputs": [
    {
     "name": "stdout",
     "output_type": "stream",
     "text": [
      "[ 0.1         0.12666667  0.15333333  0.18        0.20666667  0.23333333\n",
      "  0.26        0.28666667  0.31333333  0.34        0.36666667  0.39333333\n",
      "  0.42        0.44666667  0.47333333  0.5       ]\n"
     ]
    }
   ],
   "source": [
    "import numpy as np\n",
    "W = np.linspace(0.1, 0.5, num=16)\n",
    "with open(\"data/w.txt\", \"w\") as f:\n",
    "    for w in W:\n",
    "        print(w, file=f)\n",
    "print(W)"
   ]
  },
  {
   "cell_type": "markdown",
   "metadata": {},
   "source": [
    "## Generate instances"
   ]
  },
  {
   "cell_type": "code",
   "execution_count": 31,
   "metadata": {},
   "outputs": [
    {
     "name": "stdout",
     "output_type": "stream",
     "text": [
      "CPU times: user 4.03 ms, sys: 10.3 ms, total: 14.3 ms\n",
      "Wall time: 2.41 s\n"
     ]
    }
   ],
   "source": [
    "%%time\n",
    "%%bash -s \"$a\" \"$m\" \"$n\"\n",
    "cat data/w.txt | parallel sl -n \"$3\" -m \"$2\" -a \"$1\" -w \"{}\" -o \"data/instance-{}.cnf\" -q"
   ]
  },
  {
   "cell_type": "code",
   "execution_count": 32,
   "metadata": {},
   "outputs": [
    {
     "name": "stdout",
     "output_type": "stream",
     "text": [
      "Circle.ipynb  \u001b[34mdata\u001b[m\u001b[m/\r\n"
     ]
    }
   ],
   "source": [
    "%ls"
   ]
  },
  {
   "cell_type": "code",
   "execution_count": 33,
   "metadata": {},
   "outputs": [
    {
     "name": "stdout",
     "output_type": "stream",
     "text": [
      "c generator: circle\r\n",
      "c k: 10\r\n",
      "c w: 0.1\r\n",
      "p cnf 100 1000\r\n",
      "76 80 -69 72 70 -86 73 -79 78 83 0\r\n",
      "-63 68 60 73 -76 -64 70 71 67 -75 0\r\n",
      "14 -21 22 20 11 16 -13 -23 -10 18 0\r\n",
      "-30 -24 21 -18 20 17 -19 22 31 32 0\r\n",
      "-17 12 16 15 5 -2 -13 -3 -7 8 0\r\n",
      "64 75 69 -66 -72 -71 -60 -76 -58 -77 0\r\n"
     ]
    }
   ],
   "source": [
    "! head data/instance-0.1.cnf"
   ]
  },
  {
   "cell_type": "markdown",
   "metadata": {},
   "source": [
    "## Solve"
   ]
  },
  {
   "cell_type": "code",
   "execution_count": 34,
   "metadata": {
    "scrolled": true
   },
   "outputs": [
    {
     "name": "stdout",
     "output_type": "stream",
     "text": [
      "CPU times: user 4.32 ms, sys: 13.7 ms, total: 18 ms\n",
      "Wall time: 27 s\n"
     ]
    }
   ],
   "source": [
    "%%time\n",
    "%%bash\n",
    "for w in $(cat data/w.txt); do \n",
    "    cat data/instance-${w}.cnf | docker run --rm -i msoos/cryptominisat:v2 > data/result-${w}.out\n",
    "done"
   ]
  },
  {
   "cell_type": "code",
   "execution_count": 35,
   "metadata": {},
   "outputs": [
    {
     "name": "stdout",
     "output_type": "stream",
     "text": [
      "instance-0.1.cnf             result-0.126666666667.out\r\n",
      "instance-0.126666666667.cnf  result-0.153333333333.out\r\n",
      "instance-0.153333333333.cnf  result-0.18.out\r\n",
      "instance-0.18.cnf            result-0.206666666667.out\r\n",
      "instance-0.206666666667.cnf  result-0.233333333333.out\r\n",
      "instance-0.233333333333.cnf  result-0.26.out\r\n",
      "instance-0.26.cnf            result-0.286666666667.out\r\n",
      "instance-0.286666666667.cnf  result-0.313333333333.out\r\n",
      "instance-0.313333333333.cnf  result-0.34.out\r\n",
      "instance-0.34.cnf            result-0.366666666667.out\r\n",
      "instance-0.366666666667.cnf  result-0.393333333333.out\r\n",
      "instance-0.393333333333.cnf  result-0.42.out\r\n",
      "instance-0.42.cnf            result-0.446666666667.out\r\n",
      "instance-0.446666666667.cnf  result-0.473333333333.out\r\n",
      "instance-0.473333333333.cnf  result-0.5.out\r\n",
      "instance-0.5.cnf             w.txt\r\n",
      "result-0.1.out\r\n"
     ]
    }
   ],
   "source": [
    "%ls data"
   ]
  },
  {
   "cell_type": "markdown",
   "metadata": {},
   "source": [
    "## Analyze"
   ]
  },
  {
   "cell_type": "code",
   "execution_count": 36,
   "metadata": {},
   "outputs": [],
   "source": [
    "%%bash\n",
    "for w in $(cat data/w.txt); do\n",
    "    printf \"${w},\"\n",
    "    cat data/result-${w}.out | grep 'Total time' | sed 's/[^0-9\\.]//g' | xargs echo -n\n",
    "    printf \",\"\n",
    "    cat data/result-${w}.out | grep '^s' | cut -d' ' -f 2 | sed 's/ISFIABLE//'\n",
    "done | sort > data/times.tsv"
   ]
  },
  {
   "cell_type": "code",
   "execution_count": 37,
   "metadata": {},
   "outputs": [
    {
     "data": {
      "text/html": [
       "<div>\n",
       "<style>\n",
       "    .dataframe thead tr:only-child th {\n",
       "        text-align: right;\n",
       "    }\n",
       "\n",
       "    .dataframe thead th {\n",
       "        text-align: left;\n",
       "    }\n",
       "\n",
       "    .dataframe tbody tr th {\n",
       "        vertical-align: top;\n",
       "    }\n",
       "</style>\n",
       "<table border=\"1\" class=\"dataframe\">\n",
       "  <thead>\n",
       "    <tr style=\"text-align: right;\">\n",
       "      <th></th>\n",
       "      <th>0</th>\n",
       "      <th>1</th>\n",
       "      <th>2</th>\n",
       "      <th>3</th>\n",
       "      <th>4</th>\n",
       "      <th>5</th>\n",
       "      <th>6</th>\n",
       "      <th>7</th>\n",
       "      <th>8</th>\n",
       "      <th>9</th>\n",
       "      <th>10</th>\n",
       "      <th>11</th>\n",
       "      <th>12</th>\n",
       "      <th>13</th>\n",
       "      <th>14</th>\n",
       "      <th>15</th>\n",
       "    </tr>\n",
       "  </thead>\n",
       "  <tbody>\n",
       "    <tr>\n",
       "      <th>w</th>\n",
       "      <td>0.1</td>\n",
       "      <td>0.126667</td>\n",
       "      <td>0.153333</td>\n",
       "      <td>0.18</td>\n",
       "      <td>0.206667</td>\n",
       "      <td>0.233333</td>\n",
       "      <td>0.26</td>\n",
       "      <td>0.286667</td>\n",
       "      <td>0.313333</td>\n",
       "      <td>0.34</td>\n",
       "      <td>0.366667</td>\n",
       "      <td>0.393333</td>\n",
       "      <td>0.42</td>\n",
       "      <td>0.446667</td>\n",
       "      <td>0.473333</td>\n",
       "      <td>0.5</td>\n",
       "    </tr>\n",
       "    <tr>\n",
       "      <th>time</th>\n",
       "      <td>0.06</td>\n",
       "      <td>0.04</td>\n",
       "      <td>0.03</td>\n",
       "      <td>0.04</td>\n",
       "      <td>0.03</td>\n",
       "      <td>0.03</td>\n",
       "      <td>0.03</td>\n",
       "      <td>0.04</td>\n",
       "      <td>0.02</td>\n",
       "      <td>0.04</td>\n",
       "      <td>0.03</td>\n",
       "      <td>0.03</td>\n",
       "      <td>0.04</td>\n",
       "      <td>0.03</td>\n",
       "      <td>0.04</td>\n",
       "      <td>0.04</td>\n",
       "    </tr>\n",
       "    <tr>\n",
       "      <th>result</th>\n",
       "      <td>SAT</td>\n",
       "      <td>SAT</td>\n",
       "      <td>SAT</td>\n",
       "      <td>SAT</td>\n",
       "      <td>SAT</td>\n",
       "      <td>SAT</td>\n",
       "      <td>SAT</td>\n",
       "      <td>SAT</td>\n",
       "      <td>SAT</td>\n",
       "      <td>SAT</td>\n",
       "      <td>SAT</td>\n",
       "      <td>SAT</td>\n",
       "      <td>SAT</td>\n",
       "      <td>SAT</td>\n",
       "      <td>SAT</td>\n",
       "      <td>SAT</td>\n",
       "    </tr>\n",
       "  </tbody>\n",
       "</table>\n",
       "</div>"
      ],
      "text/plain": [
       "          0         1         2     3         4         5     6         7   \\\n",
       "w        0.1  0.126667  0.153333  0.18  0.206667  0.233333  0.26  0.286667   \n",
       "time    0.06      0.04      0.03  0.04      0.03      0.03  0.03      0.04   \n",
       "result   SAT       SAT       SAT   SAT       SAT       SAT   SAT       SAT   \n",
       "\n",
       "              8     9         10        11    12        13        14    15  \n",
       "w       0.313333  0.34  0.366667  0.393333  0.42  0.446667  0.473333   0.5  \n",
       "time        0.02  0.04      0.03      0.03  0.04      0.03      0.04  0.04  \n",
       "result       SAT   SAT       SAT       SAT   SAT       SAT       SAT   SAT  "
      ]
     },
     "execution_count": 37,
     "metadata": {},
     "output_type": "execute_result"
    }
   ],
   "source": [
    "import pandas as pd\n",
    "\n",
    "pd.read_csv(\"data/times.tsv\", names=['w','time','result']).transpose()"
   ]
  },
  {
   "cell_type": "code",
   "execution_count": 38,
   "metadata": {},
   "outputs": [
    {
     "data": {
      "image/png": "[encoded data removed]",
      "text/plain": [
       "<matplotlib.figure.Figure at 0x105efe160>"
      ]
     },
     "metadata": {},
     "output_type": "display_data"
    }
   ],
   "source": [
    "import matplotlib.pyplot as plt\n",
    "import pandas as pd\n",
    "\n",
    "data = pd.read_csv('data/times.tsv', header=None)\n",
    "W = data[:][0]\n",
    "T = data[:][1]\n",
    "\n",
    "fig, ax = plt.subplots(1, 1)\n",
    "\n",
    "ax.plot(W, T, zorder=10)\n",
    "ax.grid(True, zorder=5)\n",
    "plt.show()"
   ]
  }
 ],
 "metadata": {
  "kernelspec": {
   "display_name": "Python 3",
   "language": "python",
   "name": "python3"
  },
  "language_info": {
   "codemirror_mode": {
    "name": "ipython",
    "version": 3
   },
   "file_extension": ".py",
   "mimetype": "text/x-python",
   "name": "python",
   "nbconvert_exporter": "python",
   "pygments_lexer": "ipython3",
   "version": "3.6.2"
  }
 },
 "nbformat": 4,
 "nbformat_minor": 1
}
